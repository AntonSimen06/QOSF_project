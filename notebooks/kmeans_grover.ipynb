{
 "cells": [
  {
   "cell_type": "markdown",
   "metadata": {},
   "source": [
    "# K-means clustering using Grover's Algorithm\n",
    "\n",
    "This notebook will show you on how to use Qiskit to solve a Quantum Machine Learning problem. Also, how to use Grover's Algorithm as an optimizer. Grover's Algorithm will be used as a subroutine of k-means clustering. As some of you already know, k-means clustering is a supervised machine learning method to optimize Euclidean distances that means find the best clustering. The function $f(x,y)$ which we would like to minimize can be described by the following equation:\n",
    "\n",
    "$$f(x,y) = \\sum\\sum ||x_i - y_j||^2 $$\n",
    "\n",
    "where $y_i$ is representing each centroid and $x_i$ represents each point (in cartesian coordinate) from our data set. For each iteration, Grover's Algorithm helps K-means to classify each point according the nearest centroid. So, we can say that Grover's is used to classify each point from input data set with time complexity $O(c\\sqrt(N))$, where $c$ is a constant which is related to how much digits that composes the binary representation of Euclidean distances.\n",
    "\n",
    "We can define what will be done in some steps:\n",
    "\n",
    "1) Generate an input data set;\n",
    "\n",
    "2) Create k initial random centroids which will be optimized;\n",
    "\n",
    "3) Use Grover's Algo to classify each point according to nearest (smaller squared Euclidean distance) centroid. In this way, we are creating k sets of classified points called clusters;\n",
    "\n",
    "4) Calculate the median for each cluster. This medians forms our new centroids;\n",
    "\n",
    "5) Repeat steps 2), 3) and 4) untill $centroids_{i+1} = centroinds_{i}$ (stop criteria according an error $\\delta$)\n",
    "\n"
   ]
  },
  {
   "cell_type": "code",
   "execution_count": 1,
   "metadata": {},
   "outputs": [],
   "source": [
    "import numpy as np\n",
    "import scipy as sp\n",
    "import matplotlib.pyplot as plt\n",
    "import matplotlib.animation as anima\n",
    "import random\n",
    "import networkx\n",
    "import math as ma\n",
    "import pandas as pd\n",
    "from math import pi\n",
    "from scipy.spatial import voronoi_plot_2d, Voronoi\n",
    "from scipy.stats import*\n",
    "import scipy.stats as stats\n",
    "from sklearn import datasets\n",
    "from qiskit import*\n",
    "from qiskit.visualization import*\n",
    "import qiskit\n",
    "from qiskit import *\n",
    "import numpy as np\n",
    "import random\n",
    "from random import choice\n",
    "from qiskit.visualization import *\n",
    "simulator = Aer.get_backend('qasm_simulator')"
   ]
  },
  {
   "cell_type": "code",
   "execution_count": null,
   "metadata": {},
   "outputs": [],
   "source": []
  },
  {
   "cell_type": "code",
   "execution_count": 2,
   "metadata": {},
   "outputs": [],
   "source": [
    "#Generate an input data set\n",
    "\n",
    "\n",
    "#Example\n",
    "data = [[0.1,0.1],[0.2,0.2],[0.15,0.1],[0.4,0.4],[0.6,0.6],[0.4,0.5],[0.9,0.9],[0.8,0.8],[0.85,0.8],[0.1,0.9],[0.1,0.7],[0.2,0.9]]\n",
    "x = []\n",
    "y = []\n",
    "for i in range(len(data)):\n",
    "    x.append(data[i][0])\n",
    "    y.append(data[i][1])\n"
   ]
  },
  {
   "cell_type": "code",
   "execution_count": 3,
   "metadata": {},
   "outputs": [],
   "source": [
    "#Define k=4 initial random centroids\n",
    "\n",
    "\n",
    "#Example for k=4 (4-means)\n",
    "centroids = [[random.random(), random.random()], \n",
    "             [random.random(), random.random()], \n",
    "             [random.random(), random.random()], \n",
    "             [random.random(), random.random()]]"
   ]
  },
  {
   "cell_type": "code",
   "execution_count": 4,
   "metadata": {},
   "outputs": [],
   "source": [
    "center_x = []\n",
    "center_y = []\n",
    "for i in range(len(centroids)):\n",
    "    center_x.append(centroids[i][0])\n",
    "    center_y.append(centroids[i][1])\n",
    "    "
   ]
  },
  {
   "cell_type": "code",
   "execution_count": 5,
   "metadata": {
    "scrolled": true
   },
   "outputs": [
    {
     "data": {
      "text/plain": [
       "[<matplotlib.lines.Line2D at 0x21274cdb908>]"
      ]
     },
     "execution_count": 5,
     "metadata": {},
     "output_type": "execute_result"
    },
    {
     "data": {
      "image/png": "[encoded data removed]",
      "text/plain": [
       "<Figure size 432x288 with 1 Axes>"
      ]
     },
     "metadata": {
      "needs_background": "light"
     },
     "output_type": "display_data"
    }
   ],
   "source": [
    "plt.plot(x,y,'ro',markersize = 5)\n",
    "plt.plot(center_x,center_y,'k+',markersize = 15)\n"
   ]
  },
  {
   "cell_type": "markdown",
   "metadata": {},
   "source": [
    "### Grover's Algorithm to find mininum\n",
    "\n",
    "In order to use Grover's Algorithm to find a mininum in a classical data set, one proposal is to use a “quantum RAM,” typically meaning a large classical memory which can be queried in superposition [1]. It can be easily builded using an equivalent quantum circuit which classical data is stored in a quantum register. In this application, classical data would be the Euclidean distances between each point of the coreset and the k-means centroids. So, if there are $k$ centroids, there are $k$ distances stored in the Quantum RAM. The image bellow represents a quantum circuit equivalent to a qRAM where each Euclidean distance $x_j$ is indexed by $j$.\n",
    "\n",
    "<img src=\"files/qram.png\" width=\"800\" height=\"400\">"
   ]
  },
  {
   "cell_type": "markdown",
   "metadata": {},
   "source": [
    "The full quantum circuit for Grover's Algorithm is showed in the figure bellow.\n",
    "\n",
    "<img src=\"files/grover.png\" width=\"800\" height=\"400\">\n",
    "\n",
    "Phase flip is an iterative function which analise the most significant qubits of the measured value and apply phase inversion on the distances which are smaller than the measured value. In order to make it more clear, let's see an example on how it works. \n",
    "\n",
    "Let's suppose $distances = [9,5,19,20,17,22,23,29,31,44,52,55,57,73,4,12,125,48,56,33,22,77,48,54,50,122,111,31,32,69,93,97,94,101,105,110,111,126,127,22,33,44,55,66,77,88,99,100,11123,43,54,65,76,87,98,7,6,8,11,63]$. If we measure randomly 125 = 0b1111101, we know that if we apply the phase inversion in all states that contains '0' (0b0______) in the most significant qubit, all these marked states will have decimal values less than the measured value 125. We can mark all states with a single operation, due to the superposition of states in Quantum RAM. The Diffuser operator $U = 2|\\phi\\rangle \\langle \\phi| - 1 $ will act in this state performing an inversion about the mean, increasing the probability to measure one of these marked states (with equal probability). If the next measured value is i.e. 12 = 0b0001100, we must mark states all states such that the four most signicant qubits are '0' (0b0000___). Then, after measurement, possible measured values are 4 and 5. If we measure 5 = 0b0000101, we search for states which has this binary representation: 0b00000__ but when we measure probably we'll measurea number greater than 5 because there is no numbers like 0b00000__ so it means that the mininum is between $5$ and $2^2$. Let's see, in the figure bellow, how we can perform the iterative phase flip function. This logic can be used for any data sets.\n",
    "\n",
    "<img src=\"files/phaseflip.png\" width=\"800\" height=\"400\">\n",
    "\n",
    "\n",
    "For each iteration Grover's perform $\\sqrt N$ iterations. So, it takes time $O(c \\sqrt N) \\equiv O(\\sqrt N) $ where $c$ is, in the worst case, the number of bits of the first measured value. \n"
   ]
  },
  {
   "cell_type": "markdown",
   "metadata": {},
   "source": [
    "## Implementing with Qiskit"
   ]
  },
  {
   "cell_type": "code",
   "execution_count": 6,
   "metadata": {},
   "outputs": [],
   "source": [
    "#The function bellow implements Grovers Algo to find a minimum in a classical data set.\n",
    "\n",
    "def Grover(distt):      \n",
    "    T = []\n",
    "    for m in range(len(distt)):\n",
    "        T.append(list(f'{distt[m]:011b}'))\n",
    "    for m in range(len(T)):\n",
    "        for n in range(len(T[m])):\n",
    "            T[m][n] = int(T[m][n])\n",
    "            \n",
    "    reg1 = 3 #stores indexes values 'j'\n",
    "    reg2 = 10 #stores T(j) generating sum |j>|T(j)>\n",
    "    \n",
    "    aux = 1 #ancilla\n",
    "    n = reg1+reg2+aux\n",
    "    \n",
    "    def qram():\n",
    "        #cost_list = []\n",
    "        mem = QuantumCircuit(n)\n",
    "        \n",
    "        mem.x([0,1,2])\n",
    "        for i in range(reg2):\n",
    "            if(T[0][i]==1):\n",
    "                mem.mct([0,1,2],3+i)\n",
    "        mem.x([0,1,2])\n",
    "        mem.barrier()\n",
    "\n",
    "        mem.x([0,1])\n",
    "        for i in range(reg2):\n",
    "            if(T[1][i]==1):\n",
    "                mem.mct([0,1,2],3+i)\n",
    "        mem.x([0,1])\n",
    "        mem.barrier()\n",
    "\n",
    "        \n",
    "        mem.x([0,2])\n",
    "        for i in range(reg2):\n",
    "            if(T[2][i]==1):\n",
    "                mem.mct([0,1,2],3+i)\n",
    "        mem.x([0,2])\n",
    "        mem.barrier()\n",
    "\n",
    "        mem.x([0])\n",
    "        for i in range(reg2):\n",
    "            if(T[3][i]==1):\n",
    "                mem.mct([0,1,2],3+i)\n",
    "        mem.x([0])\n",
    "        mem.barrier()  \n",
    "\n",
    "        mem.x([1,2])\n",
    "        for i in range(reg2):\n",
    "            if(T[4][i]==1):\n",
    "                mem.mct([0,1,2],3+i)\n",
    "        mem.x([1,2])\n",
    "        mem.barrier()\n",
    "\n",
    "\n",
    "        mem.x([1])\n",
    "        for i in range(reg2):\n",
    "            if(T[5][i]==1):\n",
    "                mem.mct([0,1,2],3+i)\n",
    "        mem.x([1])\n",
    "        mem.barrier()\n",
    "\n",
    "        mem.x([2])\n",
    "        for i in range(reg2):\n",
    "            if(T[6][i]==1):\n",
    "                mem.mct([0,1,2],3+i)\n",
    "        mem.x([2])\n",
    "        mem.barrier()\n",
    "\n",
    "\n",
    "        for i in range(reg2-1):\n",
    "            if(T[7][i]==1):\n",
    "                mem.mct([0,1,2],3+i)\n",
    "\n",
    "        mem.barrier()\n",
    "        return mem\n",
    "    #############################################################\n",
    "    def diffuser():\n",
    "\n",
    "        diff = QuantumCircuit(reg1)\n",
    "        diff.h(range(reg1))\n",
    "        diff.x(range(reg1))\n",
    "        diff.h(reg1-1)\n",
    "        diff.mct([0,1],2)\n",
    "        diff.h(reg1-1)\n",
    "        diff.x(range(reg1))\n",
    "        diff.h(range(reg1))\n",
    "        diff.barrier()\n",
    "\n",
    "        return diff\n",
    "    current_min = np.random.choice(distt)\n",
    "    pos = distt.index(current_min)\n",
    "    control=[]\n",
    "    control2=[]\n",
    "    count = []\n",
    "    curr_min = []\n",
    "    current_min\n",
    "\n",
    "    for i in range(reg2):\n",
    "        if(T[pos][i]==0):\n",
    "            control.append(i+reg1)\n",
    "            control2.append(i+reg1)\n",
    "        if(T[pos][i]==1):\n",
    "            control.append(i+reg1)\n",
    "            control2.append(i+reg1)\n",
    "            break\n",
    "    for i in range(reg2):\n",
    "\n",
    "        qc=QuantumCircuit(n,reg1)\n",
    "\n",
    "        # INITIALIZE\n",
    "        qc.h(range(reg1))\n",
    "        qc.x(n-1)\n",
    "        qc.h(n-1)\n",
    "        qc.barrier()\n",
    "        # END INITIALIZE\n",
    "        ################### FIRST GROVER ITERATION ##########################\n",
    "\n",
    "        # STORES cost_list in reg2\n",
    "        qc = qc.compose(qram())\n",
    "        # END STORAGE\n",
    "\n",
    "\n",
    "        # FLIP PHASE\n",
    "        qc.x(control2)\n",
    "        qc.mct(control,n-1)\n",
    "        qc.x(control2)\n",
    "        qc.barrier()\n",
    "        # END FLIP PHASE\n",
    "\n",
    "        # UNCOMPUTE qRAM\n",
    "        qc = qc.compose(qram())\n",
    "        # END UNCOMPUTE\n",
    "\n",
    "        # DIFFUSER\n",
    "        qc = qc.compose(diffuser())\n",
    "        # END DIFFUSER       \n",
    "        \n",
    "        ############################# END GROVER ITERATIONS #############################\n",
    "\n",
    "        # CHANGE ORDER OF QUBITS\n",
    "        qc.swap(0,2)\n",
    "\n",
    "        # MEASUREMENT\n",
    "        qc.measure(range(reg1),range(reg1))\n",
    "\n",
    "        # EXECUTE\n",
    "        counts = execute(qc, backend=simulator, shots=1).result().get_counts(qc)\n",
    "\n",
    "        # BINARY TO DECIMAL\n",
    "        for measured_value in counts:\n",
    "            a=int(measured_value[::1], 2)        \n",
    "        \n",
    "        if((distt[a]<current_min) and (len(count)==0)):\n",
    "\n",
    "            current_min = distt[a]\n",
    "\n",
    "            control.append(len(control)+reg1)\n",
    "            control2.append(len(control2)+reg1)\n",
    "\n",
    "        elif(distt[a]>=current_min):\n",
    "\n",
    "            count.append(0)\n",
    "\n",
    "            control.append(len(control)+reg1)\n",
    "\n",
    "            if(len(count)==1):\n",
    "                control2[len(control2)-1]=control2[len(control2)-1]+1\n",
    "\n",
    "            else:\n",
    "                control2.append(control2[len(control2)-1]+1)\n",
    "\n",
    "        if(control[len(control)-1]==10):\n",
    "            break\n",
    "\n",
    "        curr_min.append(distt[a])\n",
    "\n",
    "    mini = min(curr_min)\n",
    "    print('minimum distance: ',mini)\n",
    "\n",
    "    return distt.index(mini)  \n",
    "\n"
   ]
  },
  {
   "cell_type": "markdown",
   "metadata": {},
   "source": [
    "## Put it all together\n",
    "\n",
    "Here, Grover's Algorithm is used as a subroutine of 4-means method as explained previously."
   ]
  },
  {
   "cell_type": "code",
   "execution_count": 7,
   "metadata": {},
   "outputs": [
    {
     "name": "stdout",
     "output_type": "stream",
     "text": [
      "[[0.18447579400947334, 0.2743084502779847], [0.5326379495766284, 0.16235368473877276], [0.18513446368114306, 0.37049419310985177], [0.7502870168715059, 0.280659263459312]]\n",
      "minimum distance:  1020\n",
      "minimum distance:  29\n",
      "minimum distance:  32\n",
      "minimum distance:  74\n",
      "minimum distance:  125\n",
      "minimum distance:  63\n",
      "minimum distance:  406\n",
      "minimum distance:  272\n",
      "minimum distance:  280\n",
      "minimum distance:  806\n",
      "minimum distance:  188\n",
      "minimum distance:  281\n",
      "[[0.125, 0.39999999999999997], [0.4, 0.4], [0.26666666666666666, 0.5333333333333333], [0.65, 0.7999999999999999]]\n",
      "minimum distance:  91\n",
      "minimum distance:  46\n",
      "minimum distance:  91\n",
      "minimum distance:  0\n",
      "minimum distance:  42\n",
      "minimum distance:  10\n",
      "minimum distance:  73\n",
      "minimum distance:  23\n",
      "minimum distance:  40\n",
      "minimum distance:  162\n",
      "minimum distance:  56\n",
      "minimum distance:  139\n",
      "[[0.15000000000000002, 0.13333333333333333], [0.4, 0.45], [0.13333333333333333, 0.8333333333333334], [0.7875, 0.7749999999999999]]\n",
      "minimum distance:  4\n",
      "minimum distance:  7\n",
      "minimum distance:  1\n",
      "minimum distance:  2\n",
      "minimum distance:  62\n",
      "minimum distance:  182\n",
      "minimum distance:  28\n",
      "minimum distance:  1\n",
      "minimum distance:  5\n",
      "minimum distance:  6\n",
      "minimum distance:  19\n",
      "minimum distance:  9\n"
     ]
    }
   ],
   "source": [
    "for l in range(3):\n",
    "    print(centroids)\n",
    "    distances = []    \n",
    "    for j in range(len(data)):\n",
    "        distt=[]\n",
    "        for i in range(len(centroids)):\n",
    "            distt.append(round(((centroids[i][0] - data[j][0])**2 + (centroids[i][1] - data[j][1])**2)*1000))\n",
    "\n",
    "        distt.append(1023)\n",
    "        distt.append(1022)\n",
    "        distt.append(1021)\n",
    "        distt.append(1020)\n",
    "\n",
    "        distances.append(distt)\n",
    "\n",
    "    c0 = []\n",
    "    c1 = []\n",
    "    c2 = []\n",
    "    c3 = []\n",
    "\n",
    "    for i in range(len(distances)):\n",
    "\n",
    "        '''indexx = distances[i].index(min(distances[i]))'''\n",
    "        indexx = Grover(distances[i])\n",
    "        if(indexx==0):\n",
    "            c0.append(data[i])\n",
    "\n",
    "        if(indexx==1):\n",
    "            c1.append(data[i])\n",
    "\n",
    "        if(indexx==2):\n",
    "            c2.append(data[i])\n",
    "\n",
    "        if(indexx==3):\n",
    "            c3.append(data[i])\n",
    "\n",
    "    cs=[c0,c1,c2,c3]\n",
    "    for n in range(len(cs)):\n",
    "        sumx = 0\n",
    "        for k in range(len(cs[n])):\n",
    "            sumx = sumx + cs[n][k][0]\n",
    "\n",
    "\n",
    "        sumy = 0\n",
    "        for k in range(len(cs[n])):\n",
    "            sumy = sumy + cs[n][k][1]\n",
    "        try:\n",
    "            newcentroid = [sumx/len(cs[n]) , sumy/len(cs[n])]\n",
    "        except IOError:\n",
    "            continue\n",
    "        except ZeroDivisionError:\n",
    "            continue\n",
    "\n",
    "\n",
    "        centroids[n] = newcentroid\n",
    "    \n",
    "\n",
    "\n",
    "        "
   ]
  },
  {
   "cell_type": "code",
   "execution_count": 8,
   "metadata": {
    "scrolled": true
   },
   "outputs": [
    {
     "data": {
      "text/plain": [
       "[[0.15000000000000002, 0.13333333333333333],\n",
       " [0.5, 0.5],\n",
       " [0.2, 0.7499999999999999],\n",
       " [0.8500000000000001, 0.8333333333333334]]"
      ]
     },
     "execution_count": 8,
     "metadata": {},
     "output_type": "execute_result"
    }
   ],
   "source": [
    "#best clustering\n",
    "\n",
    "centroids"
   ]
  },
  {
   "cell_type": "code",
   "execution_count": 10,
   "metadata": {},
   "outputs": [
    {
     "data": {
      "text/plain": [
       "[<matplotlib.lines.Line2D at 0x2127514c988>]"
      ]
     },
     "execution_count": 10,
     "metadata": {},
     "output_type": "execute_result"
    },
    {
     "data": {
      "image/png": "[encoded data removed]",
      "text/plain": [
       "<Figure size 432x288 with 1 Axes>"
      ]
     },
     "metadata": {
      "needs_background": "light"
     },
     "output_type": "display_data"
    }
   ],
   "source": [
    "center_x = []\n",
    "center_y = []\n",
    "for i in range(len(centroids)):\n",
    "    center_x.append(centroids[i][0])\n",
    "    center_y.append(centroids[i][1])\n",
    "\n",
    "\n",
    "c0x=[]\n",
    "c0y=[]\n",
    "\n",
    "for i in range(len(c0)):\n",
    "    c0x.append(c0[i][0])\n",
    "    c0y.append(c0[i][1])\n",
    "    \n",
    "c1x=[]\n",
    "c1y=[]\n",
    "\n",
    "for i in range(len(c1)):\n",
    "    c1x.append(c1[i][0])\n",
    "    c1y.append(c1[i][1])\n",
    "    \n",
    "c2x=[]\n",
    "c2y=[]\n",
    "\n",
    "for i in range(len(c2)):\n",
    "    c2x.append(c2[i][0])\n",
    "    c2y.append(c2[i][1])\n",
    "    \n",
    "c3x=[]\n",
    "c3y=[]\n",
    "\n",
    "for i in range(len(c3)):\n",
    "    c3x.append(c3[i][0])\n",
    "    c3y.append(c3[i][1])\n",
    "    \n",
    "\n",
    "plt.plot(c0x,c0y,'bo')\n",
    "plt.plot(c1x,c1y,'co')\n",
    "plt.plot(c2x,c2y,'yo')\n",
    "plt.plot(c3x,c3y,'ro')\n",
    "plt.plot(center_x,center_y,'k+',markersize=15)"
   ]
  },
  {
   "cell_type": "markdown",
   "metadata": {},
   "source": [
    "## Conclusions\n",
    "\n",
    "The figure above shows us the best clustering for this 4-means example. The centroids are distributed so that the sum of all Euclidean disntances is minimized. This "
   ]
  },
  {
   "cell_type": "code",
   "execution_count": null,
   "metadata": {},
   "outputs": [],
   "source": []
  }
 ],
 "metadata": {
  "kernelspec": {
   "display_name": "Python 3",
   "language": "python",
   "name": "python3"
  },
  "language_info": {
   "codemirror_mode": {
    "name": "ipython",
    "version": 3
   },
   "file_extension": ".py",
   "mimetype": "text/x-python",
   "name": "python",
   "nbconvert_exporter": "python",
   "pygments_lexer": "ipython3",
   "version": "3.7.6"
  }
 },
 "nbformat": 4,
 "nbformat_minor": 4
}
